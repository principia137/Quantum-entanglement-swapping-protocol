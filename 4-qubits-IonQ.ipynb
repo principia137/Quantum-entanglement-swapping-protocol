{
 "cells": [
  {
   "cell_type": "code",
   "execution_count": 1,
   "id": "a5070d4a",
   "metadata": {},
   "outputs": [
    {
     "data": {
      "image/png": "[encoded data removed]",
      "text/plain": [
       "<Figure size 701.578x325.08 with 1 Axes>"
      ]
     },
     "execution_count": 1,
     "metadata": {},
     "output_type": "execute_result"
    }
   ],
   "source": [
    "import numpy as np\n",
    "from qiskit import *\n",
    "from qiskit import QuantumCircuit, QuantumRegister, ClassicalRegister\n",
    "from qiskit import IBMQ, Aer, transpile, assemble\n",
    "from qiskit.visualization import plot_histogram, plot_bloch_multivector\n",
    "from qiskit.extensions import Initialize\n",
    "from qiskit_textbook.tools import random_state, array_to_latex\n",
    "\n",
    "qr = QuantumRegister(4)\n",
    "cr = ClassicalRegister(4)\n",
    "qc = QuantumCircuit(qr, cr)\n",
    "\n",
    "def make_entanglement(qc, a, b):\n",
    "    qc.h(a)\n",
    "    qc.cx(a,b)\n",
    "\n",
    "def make_communicate(qc, a, b):\n",
    "    qc.cx(a,b)\n",
    "    qc.h(a)\n",
    "\n",
    "make_entanglement(qc, 0, 1)\n",
    "make_entanglement(qc, 2, 3)\n",
    "qc.barrier()\n",
    "\n",
    "make_communicate(qc, 1, 2)\n",
    "\n",
    "qc.barrier()\n",
    "qc.cx(2, 3)\n",
    "qc.cz(1, 0)\n",
    "\n",
    "qc.barrier()\n",
    "qc.measure(0,0)\n",
    "qc.measure(3,3)\n",
    "\n",
    "%matplotlib inline\n",
    "qc.draw(output='mpl')"
   ]
  },
  {
   "cell_type": "code",
   "execution_count": 2,
   "id": "6d20189e",
   "metadata": {},
   "outputs": [],
   "source": [
    "from qiskit_ionq import IonQProvider\n",
    "provider = IonQProvider(\"oA1RA2hIZo6QtKQ3kw43BeGFf4GMfiGA\")\n"
   ]
  },
  {
   "cell_type": "code",
   "execution_count": 3,
   "id": "ad37d949",
   "metadata": {},
   "outputs": [
    {
     "name": "stdout",
     "output_type": "stream",
     "text": [
      "{'0000': 512, '1001': 512}\n"
     ]
    }
   ],
   "source": [
    "simulator_backend = provider.get_backend(\"ionq_simulator\")\n",
    "job = simulator_backend.run(qc, shots=1024)\n",
    "print(job.get_counts())"
   ]
  },
  {
   "cell_type": "code",
   "execution_count": 4,
   "id": "19064275",
   "metadata": {},
   "outputs": [],
   "source": [
    "qpu_backend = provider.get_backend(\"ionq_qpu\")"
   ]
  },
  {
   "cell_type": "code",
   "execution_count": 5,
   "id": "4b97c0be",
   "metadata": {},
   "outputs": [],
   "source": [
    "qpu_job = qpu_backend.run(qc, shots=1024)"
   ]
  },
  {
   "cell_type": "code",
   "execution_count": 6,
   "id": "eb898081",
   "metadata": {},
   "outputs": [
    {
     "name": "stdout",
     "output_type": "stream",
     "text": [
      "Job Status is  <bound method IonQJob.status of <qiskit_ionq.ionq_job.IonQJob object at 0x000001CBB63EBF70>>\n",
      "Job Status is  <bound method IonQJob.status of <qiskit_ionq.ionq_job.IonQJob object at 0x000001CBB63EBF70>>\n",
      "FInally JobStatus.DONE\n",
      "<bound method IonQJob.get_counts of <qiskit_ionq.ionq_job.IonQJob object at 0x000001CBB63EBF70>>\n"
     ]
    }
   ],
   "source": [
    "from qiskit.providers.jobstatus import JobStatus\n",
    "import time\n",
    "while qpu_job.status() is not JobStatus.DONE:\n",
    "    print(\"Job Status is \", qpu_job.status) \n",
    "    time.sleep(60)\n",
    "\n",
    "print(\"FInally\", qpu_job.status() )\n",
    "print(qpu_job.get_counts())"
   ]
  },
  {
   "cell_type": "code",
   "execution_count": 7,
   "id": "f78fc219",
   "metadata": {},
   "outputs": [
    {
     "name": "stdout",
     "output_type": "stream",
     "text": [
      "{'0000': 451, '0001': 39, '1000': 55, '1001': 479}\n"
     ]
    }
   ],
   "source": [
    "print(qpu_job.get_counts())"
   ]
  },
  {
   "cell_type": "code",
   "execution_count": 8,
   "id": "95e01d3c",
   "metadata": {},
   "outputs": [
    {
     "name": "stdout",
     "output_type": "stream",
     "text": [
      "Job Status is  <bound method IonQJob.status of <qiskit_ionq.ionq_job.IonQJob object at 0x000001CBB63FC9A0>>\n",
      "Job Status is  <bound method IonQJob.status of <qiskit_ionq.ionq_job.IonQJob object at 0x000001CBB63FC9A0>>\n",
      "Job Status is  <bound method IonQJob.status of <qiskit_ionq.ionq_job.IonQJob object at 0x000001CBB63FC9A0>>\n",
      "Job Status is  <bound method IonQJob.status of <qiskit_ionq.ionq_job.IonQJob object at 0x000001CBB63FC9A0>>\n",
      "FInally JobStatus.DONE\n",
      "{'0000': 4555, '0001': 489, '1000': 501, '1001': 4695}\n"
     ]
    }
   ],
   "source": [
    "qpu_job = qpu_backend.run(qc, shots=10240)\n",
    "from qiskit.providers.jobstatus import JobStatus\n",
    "import time\n",
    "while qpu_job.status() is not JobStatus.DONE:\n",
    "    print(\"Job Status is \", qpu_job.status) \n",
    "    time.sleep(60)\n",
    "\n",
    "print(\"FInally\", qpu_job.status() )\n",
    "print(qpu_job.get_counts())"
   ]
  },
  {
   "cell_type": "code",
   "execution_count": 9,
   "id": "2a3b5f07",
   "metadata": {},
   "outputs": [
    {
     "name": "stdout",
     "output_type": "stream",
     "text": [
      "{'0000': 0.44482773437500006, '0001': 0.047748046875, '1000': 0.0489234375, '1001': 0.45850078125000004}\n"
     ]
    }
   ],
   "source": [
    "print(qpu_job.get_probabilities())"
   ]
  },
  {
   "cell_type": "code",
   "execution_count": 11,
   "id": "7aef52f3",
   "metadata": {},
   "outputs": [
    {
     "name": "stdout",
     "output_type": "stream",
     "text": [
      "The experimental error rate : 9.668%\n"
     ]
    }
   ],
   "source": [
    "counts = qpu_job.get_counts(qc)\n",
    "print(f\"The experimental error rate : {(1 - (counts['0000'] + counts['1001'])/sum(counts.values())) * 100 :.3f}%\")"
   ]
  },
  {
   "cell_type": "code",
   "execution_count": null,
   "id": "4ce22d06",
   "metadata": {},
   "outputs": [],
   "source": []
  }
 ],
 "metadata": {
  "kernelspec": {
   "display_name": "Python 3",
   "language": "python",
   "name": "python3"
  },
  "language_info": {
   "codemirror_mode": {
    "name": "ipython",
    "version": 3
   },
   "file_extension": ".py",
   "mimetype": "text/x-python",
   "name": "python",
   "nbconvert_exporter": "python",
   "pygments_lexer": "ipython3",
   "version": "3.7.9"
  }
 },
 "nbformat": 4,
 "nbformat_minor": 5
}
