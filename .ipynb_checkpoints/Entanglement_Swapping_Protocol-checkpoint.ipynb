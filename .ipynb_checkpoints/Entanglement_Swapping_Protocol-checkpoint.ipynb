{
 "cells": [
  {
   "cell_type": "code",
   "execution_count": 8,
   "id": "equivalent-hurricane",
   "metadata": {
    "scrolled": true
   },
   "outputs": [
    {
     "name": "stdout",
     "output_type": "stream",
     "text": [
      "Collecting git+https://github.com/qiskit-community/qiskit-textbook.git#subdirectory=qiskit-textbook-src\n",
      "  Cloning https://github.com/qiskit-community/qiskit-textbook.git to c:\\users\\samsung\\appdata\\local\\temp\\pip-req-build-6okqebdg\n",
      "Requirement already satisfied: qiskit in c:\\users\\samsung\\appdata\\roaming\\spb_data\\.conda\\envs\\quantum_computing\\lib\\site-packages (from qiskit-textbook==0.1.0) (0.23.2)Note: you may need to restart the kernel to use updated packages.\n",
      "\n",
      "Requirement already satisfied: ipython in c:\\users\\samsung\\appdata\\roaming\\spb_data\\.conda\\envs\\quantum_computing\\lib\\site-packages (from qiskit-textbook==0.1.0) (7.19.0)\n",
      "Requirement already satisfied: ipywidgets in c:\\users\\samsung\\appdata\\roaming\\spb_data\\.conda\\envs\\quantum_computing\\lib\\site-packages (from qiskit-textbook==0.1.0) (7.6.3)\n",
      "Requirement already satisfied: numpy in c:\\users\\samsung\\appdata\\roaming\\spb_data\\.conda\\envs\\quantum_computing\\lib\\site-packages (from qiskit-textbook==0.1.0) (1.19.5)\n",
      "Requirement already satisfied: matplotlib in c:\\users\\samsung\\appdata\\roaming\\spb_data\\.conda\\envs\\quantum_computing\\lib\\site-packages (from qiskit-textbook==0.1.0) (3.3.3)\n",
      "Requirement already satisfied: colorama in c:\\users\\samsung\\appdata\\roaming\\spb_data\\.conda\\envs\\quantum_computing\\lib\\site-packages (from ipython->qiskit-textbook==0.1.0) (0.4.4)\n",
      "Requirement already satisfied: traitlets>=4.2 in c:\\users\\samsung\\appdata\\roaming\\spb_data\\.conda\\envs\\quantum_computing\\lib\\site-packages (from ipython->qiskit-textbook==0.1.0) (5.0.5)\n",
      "Requirement already satisfied: decorator in c:\\users\\samsung\\appdata\\roaming\\spb_data\\.conda\\envs\\quantum_computing\\lib\\site-packages (from ipython->qiskit-textbook==0.1.0) (4.4.2)\n",
      "Requirement already satisfied: prompt-toolkit!=3.0.0,!=3.0.1,<3.1.0,>=2.0.0 in c:\\users\\samsung\\appdata\\roaming\\spb_data\\.conda\\envs\\quantum_computing\\lib\\site-packages (from ipython->qiskit-textbook==0.1.0) (3.0.11)\n",
      "Requirement already satisfied: pickleshare in c:\\users\\samsung\\appdata\\roaming\\spb_data\\.conda\\envs\\quantum_computing\\lib\\site-packages (from ipython->qiskit-textbook==0.1.0) (0.7.5)\n",
      "Requirement already satisfied: jedi>=0.10 in c:\\users\\samsung\\appdata\\roaming\\spb_data\\.conda\\envs\\quantum_computing\\lib\\site-packages (from ipython->qiskit-textbook==0.1.0) (0.18.0)\n",
      "Requirement already satisfied: setuptools>=18.5 in c:\\users\\samsung\\appdata\\roaming\\spb_data\\.conda\\envs\\quantum_computing\\lib\\site-packages (from ipython->qiskit-textbook==0.1.0) (51.3.3.post20210118)\n",
      "Requirement already satisfied: backcall in c:\\users\\samsung\\appdata\\roaming\\spb_data\\.conda\\envs\\quantum_computing\\lib\\site-packages (from ipython->qiskit-textbook==0.1.0) (0.2.0)\n",
      "Requirement already satisfied: pygments in c:\\users\\samsung\\appdata\\roaming\\spb_data\\.conda\\envs\\quantum_computing\\lib\\site-packages (from ipython->qiskit-textbook==0.1.0) (2.7.4)\n",
      "Requirement already satisfied: parso<0.9.0,>=0.8.0 in c:\\users\\samsung\\appdata\\roaming\\spb_data\\.conda\\envs\\quantum_computing\\lib\\site-packages (from jedi>=0.10->ipython->qiskit-textbook==0.1.0) (0.8.1)\n",
      "Requirement already satisfied: wcwidth in c:\\users\\samsung\\appdata\\roaming\\spb_data\\.conda\\envs\\quantum_computing\\lib\\site-packages (from prompt-toolkit!=3.0.0,!=3.0.1,<3.1.0,>=2.0.0->ipython->qiskit-textbook==0.1.0) (0.2.5)\n",
      "Requirement already satisfied: ipython-genutils in c:\\users\\samsung\\appdata\\roaming\\spb_data\\.conda\\envs\\quantum_computing\\lib\\site-packages (from traitlets>=4.2->ipython->qiskit-textbook==0.1.0) (0.2.0)\n",
      "Requirement already satisfied: jupyterlab-widgets>=1.0.0 in c:\\users\\samsung\\appdata\\roaming\\spb_data\\.conda\\envs\\quantum_computing\\lib\\site-packages (from ipywidgets->qiskit-textbook==0.1.0) (1.0.0)\n",
      "Requirement already satisfied: widgetsnbextension~=3.5.0 in c:\\users\\samsung\\appdata\\roaming\\spb_data\\.conda\\envs\\quantum_computing\\lib\\site-packages (from ipywidgets->qiskit-textbook==0.1.0) (3.5.1)\n",
      "Requirement already satisfied: ipykernel>=4.5.1 in c:\\users\\samsung\\appdata\\roaming\\spb_data\\.conda\\envs\\quantum_computing\\lib\\site-packages (from ipywidgets->qiskit-textbook==0.1.0) (5.4.3)\n",
      "Requirement already satisfied: nbformat>=4.2.0 in c:\\users\\samsung\\appdata\\roaming\\spb_data\\.conda\\envs\\quantum_computing\\lib\\site-packages (from ipywidgets->qiskit-textbook==0.1.0) (5.1.2)\n",
      "Requirement already satisfied: jupyter-client in c:\\users\\samsung\\appdata\\roaming\\spb_data\\.conda\\envs\\quantum_computing\\lib\\site-packages (from ipykernel>=4.5.1->ipywidgets->qiskit-textbook==0.1.0) (6.1.11)\n",
      "Requirement already satisfied: tornado>=4.2 in c:\\users\\samsung\\appdata\\roaming\\spb_data\\.conda\\envs\\quantum_computing\\lib\\site-packages (from ipykernel>=4.5.1->ipywidgets->qiskit-textbook==0.1.0) (6.1)\n",
      "Requirement already satisfied: jsonschema!=2.5.0,>=2.4 in c:\\users\\samsung\\appdata\\roaming\\spb_data\\.conda\\envs\\quantum_computing\\lib\\site-packages (from nbformat>=4.2.0->ipywidgets->qiskit-textbook==0.1.0) (3.2.0)\n",
      "Requirement already satisfied: jupyter-core in c:\\users\\samsung\\appdata\\roaming\\spb_data\\.conda\\envs\\quantum_computing\\lib\\site-packages (from nbformat>=4.2.0->ipywidgets->qiskit-textbook==0.1.0) (4.7.0)\n",
      "Requirement already satisfied: six>=1.11.0 in c:\\users\\samsung\\appdata\\roaming\\spb_data\\.conda\\envs\\quantum_computing\\lib\\site-packages (from jsonschema!=2.5.0,>=2.4->nbformat>=4.2.0->ipywidgets->qiskit-textbook==0.1.0) (1.15.0)\n",
      "Requirement already satisfied: pyrsistent>=0.14.0 in c:\\users\\samsung\\appdata\\roaming\\spb_data\\.conda\\envs\\quantum_computing\\lib\\site-packages (from jsonschema!=2.5.0,>=2.4->nbformat>=4.2.0->ipywidgets->qiskit-textbook==0.1.0) (0.17.3)\n",
      "Requirement already satisfied: importlib-metadata in c:\\users\\samsung\\appdata\\roaming\\spb_data\\.conda\\envs\\quantum_computing\\lib\\site-packages (from jsonschema!=2.5.0,>=2.4->nbformat>=4.2.0->ipywidgets->qiskit-textbook==0.1.0) (3.4.0)\n",
      "Requirement already satisfied: attrs>=17.4.0 in c:\\users\\samsung\\appdata\\roaming\\spb_data\\.conda\\envs\\quantum_computing\\lib\\site-packages (from jsonschema!=2.5.0,>=2.4->nbformat>=4.2.0->ipywidgets->qiskit-textbook==0.1.0) (20.3.0)\n",
      "Requirement already satisfied: notebook>=4.4.1 in c:\\users\\samsung\\appdata\\roaming\\spb_data\\.conda\\envs\\quantum_computing\\lib\\site-packages (from widgetsnbextension~=3.5.0->ipywidgets->qiskit-textbook==0.1.0) (6.2.0)\n",
      "Requirement already satisfied: terminado>=0.8.3 in c:\\users\\samsung\\appdata\\roaming\\spb_data\\.conda\\envs\\quantum_computing\\lib\\site-packages (from notebook>=4.4.1->widgetsnbextension~=3.5.0->ipywidgets->qiskit-textbook==0.1.0) (0.9.2)\n",
      "Requirement already satisfied: Send2Trash>=1.5.0 in c:\\users\\samsung\\appdata\\roaming\\spb_data\\.conda\\envs\\quantum_computing\\lib\\site-packages (from notebook>=4.4.1->widgetsnbextension~=3.5.0->ipywidgets->qiskit-textbook==0.1.0) (1.5.0)\n",
      "Requirement already satisfied: nbconvert in c:\\users\\samsung\\appdata\\roaming\\spb_data\\.conda\\envs\\quantum_computing\\lib\\site-packages (from notebook>=4.4.1->widgetsnbextension~=3.5.0->ipywidgets->qiskit-textbook==0.1.0) (6.0.7)\n",
      "Requirement already satisfied: jinja2 in c:\\users\\samsung\\appdata\\roaming\\spb_data\\.conda\\envs\\quantum_computing\\lib\\site-packages (from notebook>=4.4.1->widgetsnbextension~=3.5.0->ipywidgets->qiskit-textbook==0.1.0) (2.11.2)\n",
      "Requirement already satisfied: prometheus-client in c:\\users\\samsung\\appdata\\roaming\\spb_data\\.conda\\envs\\quantum_computing\\lib\\site-packages (from notebook>=4.4.1->widgetsnbextension~=3.5.0->ipywidgets->qiskit-textbook==0.1.0) (0.9.0)\n",
      "Requirement already satisfied: argon2-cffi in c:\\users\\samsung\\appdata\\roaming\\spb_data\\.conda\\envs\\quantum_computing\\lib\\site-packages (from notebook>=4.4.1->widgetsnbextension~=3.5.0->ipywidgets->qiskit-textbook==0.1.0) (20.1.0)\n",
      "Requirement already satisfied: pyzmq>=17 in c:\\users\\samsung\\appdata\\roaming\\spb_data\\.conda\\envs\\quantum_computing\\lib\\site-packages (from notebook>=4.4.1->widgetsnbextension~=3.5.0->ipywidgets->qiskit-textbook==0.1.0) (21.0.1)\n",
      "Requirement already satisfied: python-dateutil>=2.1 in c:\\users\\samsung\\appdata\\roaming\\spb_data\\.conda\\envs\\quantum_computing\\lib\\site-packages (from jupyter-client->ipykernel>=4.5.1->ipywidgets->qiskit-textbook==0.1.0) (2.8.1)\n",
      "Requirement already satisfied: pywin32>=1.0 in c:\\users\\samsung\\appdata\\roaming\\spb_data\\.conda\\envs\\quantum_computing\\lib\\site-packages (from jupyter-core->nbformat>=4.2.0->ipywidgets->qiskit-textbook==0.1.0) (300)\n",
      "Requirement already satisfied: pywinpty>=0.5 in c:\\users\\samsung\\appdata\\roaming\\spb_data\\.conda\\envs\\quantum_computing\\lib\\site-packages (from terminado>=0.8.3->notebook>=4.4.1->widgetsnbextension~=3.5.0->ipywidgets->qiskit-textbook==0.1.0) (0.5.7)\n",
      "Requirement already satisfied: cffi>=1.0.0 in c:\\users\\samsung\\appdata\\roaming\\spb_data\\.conda\\envs\\quantum_computing\\lib\\site-packages (from argon2-cffi->notebook>=4.4.1->widgetsnbextension~=3.5.0->ipywidgets->qiskit-textbook==0.1.0) (1.14.4)\n",
      "Requirement already satisfied: pycparser in c:\\users\\samsung\\appdata\\roaming\\spb_data\\.conda\\envs\\quantum_computing\\lib\\site-packages (from cffi>=1.0.0->argon2-cffi->notebook>=4.4.1->widgetsnbextension~=3.5.0->ipywidgets->qiskit-textbook==0.1.0) (2.20)\n",
      "Requirement already satisfied: typing-extensions>=3.6.4 in c:\\users\\samsung\\appdata\\roaming\\spb_data\\.conda\\envs\\quantum_computing\\lib\\site-packages (from importlib-metadata->jsonschema!=2.5.0,>=2.4->nbformat>=4.2.0->ipywidgets->qiskit-textbook==0.1.0) (3.7.4.3)\n",
      "Requirement already satisfied: zipp>=0.5 in c:\\users\\samsung\\appdata\\roaming\\spb_data\\.conda\\envs\\quantum_computing\\lib\\site-packages (from importlib-metadata->jsonschema!=2.5.0,>=2.4->nbformat>=4.2.0->ipywidgets->qiskit-textbook==0.1.0) (3.4.0)\n",
      "Requirement already satisfied: MarkupSafe>=0.23 in c:\\users\\samsung\\appdata\\roaming\\spb_data\\.conda\\envs\\quantum_computing\\lib\\site-packages (from jinja2->notebook>=4.4.1->widgetsnbextension~=3.5.0->ipywidgets->qiskit-textbook==0.1.0) (1.1.1)\n",
      "Requirement already satisfied: pyparsing!=2.0.4,!=2.1.2,!=2.1.6,>=2.0.3 in c:\\users\\samsung\\appdata\\roaming\\spb_data\\.conda\\envs\\quantum_computing\\lib\\site-packages (from matplotlib->qiskit-textbook==0.1.0) (2.4.7)\n",
      "Requirement already satisfied: kiwisolver>=1.0.1 in c:\\users\\samsung\\appdata\\roaming\\spb_data\\.conda\\envs\\quantum_computing\\lib\\site-packages (from matplotlib->qiskit-textbook==0.1.0) (1.3.1)\n",
      "Requirement already satisfied: cycler>=0.10 in c:\\users\\samsung\\appdata\\roaming\\spb_data\\.conda\\envs\\quantum_computing\\lib\\site-packages (from matplotlib->qiskit-textbook==0.1.0) (0.10.0)\n",
      "Requirement already satisfied: pillow>=6.2.0 in c:\\users\\samsung\\appdata\\roaming\\spb_data\\.conda\\envs\\quantum_computing\\lib\\site-packages (from matplotlib->qiskit-textbook==0.1.0) (8.1.0)\n",
      "Requirement already satisfied: mistune<2,>=0.8.1 in c:\\users\\samsung\\appdata\\roaming\\spb_data\\.conda\\envs\\quantum_computing\\lib\\site-packages (from nbconvert->notebook>=4.4.1->widgetsnbextension~=3.5.0->ipywidgets->qiskit-textbook==0.1.0) (0.8.4)\n",
      "Requirement already satisfied: jupyterlab-pygments in c:\\users\\samsung\\appdata\\roaming\\spb_data\\.conda\\envs\\quantum_computing\\lib\\site-packages (from nbconvert->notebook>=4.4.1->widgetsnbextension~=3.5.0->ipywidgets->qiskit-textbook==0.1.0) (0.1.2)\n",
      "Requirement already satisfied: nbclient<0.6.0,>=0.5.0 in c:\\users\\samsung\\appdata\\roaming\\spb_data\\.conda\\envs\\quantum_computing\\lib\\site-packages (from nbconvert->notebook>=4.4.1->widgetsnbextension~=3.5.0->ipywidgets->qiskit-textbook==0.1.0) (0.5.1)\n",
      "Requirement already satisfied: bleach in c:\\users\\samsung\\appdata\\roaming\\spb_data\\.conda\\envs\\quantum_computing\\lib\\site-packages (from nbconvert->notebook>=4.4.1->widgetsnbextension~=3.5.0->ipywidgets->qiskit-textbook==0.1.0) (3.2.2)\n",
      "Requirement already satisfied: testpath in c:\\users\\samsung\\appdata\\roaming\\spb_data\\.conda\\envs\\quantum_computing\\lib\\site-packages (from nbconvert->notebook>=4.4.1->widgetsnbextension~=3.5.0->ipywidgets->qiskit-textbook==0.1.0) (0.4.4)\n",
      "Requirement already satisfied: pandocfilters>=1.4.1 in c:\\users\\samsung\\appdata\\roaming\\spb_data\\.conda\\envs\\quantum_computing\\lib\\site-packages (from nbconvert->notebook>=4.4.1->widgetsnbextension~=3.5.0->ipywidgets->qiskit-textbook==0.1.0) (1.4.3)\n",
      "Requirement already satisfied: entrypoints>=0.2.2 in c:\\users\\samsung\\appdata\\roaming\\spb_data\\.conda\\envs\\quantum_computing\\lib\\site-packages (from nbconvert->notebook>=4.4.1->widgetsnbextension~=3.5.0->ipywidgets->qiskit-textbook==0.1.0) (0.3)\n",
      "Requirement already satisfied: defusedxml in c:\\users\\samsung\\appdata\\roaming\\spb_data\\.conda\\envs\\quantum_computing\\lib\\site-packages (from nbconvert->notebook>=4.4.1->widgetsnbextension~=3.5.0->ipywidgets->qiskit-textbook==0.1.0) (0.6.0)\n",
      "Requirement already satisfied: async-generator in c:\\users\\samsung\\appdata\\roaming\\spb_data\\.conda\\envs\\quantum_computing\\lib\\site-packages (from nbclient<0.6.0,>=0.5.0->nbconvert->notebook>=4.4.1->widgetsnbextension~=3.5.0->ipywidgets->qiskit-textbook==0.1.0) (1.10)\n",
      "Requirement already satisfied: nest-asyncio in c:\\users\\samsung\\appdata\\roaming\\spb_data\\.conda\\envs\\quantum_computing\\lib\\site-packages (from nbclient<0.6.0,>=0.5.0->nbconvert->notebook>=4.4.1->widgetsnbextension~=3.5.0->ipywidgets->qiskit-textbook==0.1.0) (1.4.3)\n",
      "Requirement already satisfied: webencodings in c:\\users\\samsung\\appdata\\roaming\\spb_data\\.conda\\envs\\quantum_computing\\lib\\site-packages (from bleach->nbconvert->notebook>=4.4.1->widgetsnbextension~=3.5.0->ipywidgets->qiskit-textbook==0.1.0) (0.5.1)\n",
      "Requirement already satisfied: packaging in c:\\users\\samsung\\appdata\\roaming\\spb_data\\.conda\\envs\\quantum_computing\\lib\\site-packages (from bleach->nbconvert->notebook>=4.4.1->widgetsnbextension~=3.5.0->ipywidgets->qiskit-textbook==0.1.0) (20.8)\n",
      "Requirement already satisfied: qiskit-ibmq-provider==0.11.1 in c:\\users\\samsung\\appdata\\roaming\\spb_data\\.conda\\envs\\quantum_computing\\lib\\site-packages (from qiskit->qiskit-textbook==0.1.0) (0.11.1)\n",
      "Requirement already satisfied: qiskit-aqua==0.8.1 in c:\\users\\samsung\\appdata\\roaming\\spb_data\\.conda\\envs\\quantum_computing\\lib\\site-packages (from qiskit->qiskit-textbook==0.1.0) (0.8.1)\n",
      "Requirement already satisfied: qiskit-ignis==0.5.1 in c:\\users\\samsung\\appdata\\roaming\\spb_data\\.conda\\envs\\quantum_computing\\lib\\site-packages (from qiskit->qiskit-textbook==0.1.0) (0.5.1)\n",
      "Requirement already satisfied: qiskit-terra==0.16.1 in c:\\users\\samsung\\appdata\\roaming\\spb_data\\.conda\\envs\\quantum_computing\\lib\\site-packages (from qiskit->qiskit-textbook==0.1.0) (0.16.1)\n",
      "Requirement already satisfied: qiskit-aer==0.7.2 in c:\\users\\samsung\\appdata\\roaming\\spb_data\\.conda\\envs\\quantum_computing\\lib\\site-packages (from qiskit->qiskit-textbook==0.1.0) (0.7.2)\n",
      "Requirement already satisfied: scipy>=1.0 in c:\\users\\samsung\\appdata\\roaming\\spb_data\\.conda\\envs\\quantum_computing\\lib\\site-packages (from qiskit-aer==0.7.2->qiskit->qiskit-textbook==0.1.0) (1.6.0)\n",
      "Requirement already satisfied: cython>=0.27.1 in c:\\users\\samsung\\appdata\\roaming\\spb_data\\.conda\\envs\\quantum_computing\\lib\\site-packages (from qiskit-aer==0.7.2->qiskit->qiskit-textbook==0.1.0) (0.29.21)\n",
      "Requirement already satisfied: pybind11>=2.4 in c:\\users\\samsung\\appdata\\roaming\\spb_data\\.conda\\envs\\quantum_computing\\lib\\site-packages (from qiskit-aer==0.7.2->qiskit->qiskit-textbook==0.1.0) (2.6.1)\n",
      "Requirement already satisfied: sympy>=1.3 in c:\\users\\samsung\\appdata\\roaming\\spb_data\\.conda\\envs\\quantum_computing\\lib\\site-packages (from qiskit-aqua==0.8.1->qiskit->qiskit-textbook==0.1.0) (1.7.1)\n",
      "Requirement already satisfied: dlx in c:\\users\\samsung\\appdata\\roaming\\spb_data\\.conda\\envs\\quantum_computing\\lib\\site-packages (from qiskit-aqua==0.8.1->qiskit->qiskit-textbook==0.1.0) (1.0.4)\n",
      "Requirement already satisfied: psutil>=5 in c:\\users\\samsung\\appdata\\roaming\\spb_data\\.conda\\envs\\quantum_computing\\lib\\site-packages (from qiskit-aqua==0.8.1->qiskit->qiskit-textbook==0.1.0) (5.8.0)\n",
      "Requirement already satisfied: h5py in c:\\users\\samsung\\appdata\\roaming\\spb_data\\.conda\\envs\\quantum_computing\\lib\\site-packages (from qiskit-aqua==0.8.1->qiskit->qiskit-textbook==0.1.0) (3.1.0)\n",
      "Requirement already satisfied: quandl in c:\\users\\samsung\\appdata\\roaming\\spb_data\\.conda\\envs\\quantum_computing\\lib\\site-packages (from qiskit-aqua==0.8.1->qiskit->qiskit-textbook==0.1.0) (3.6.0)\n",
      "Requirement already satisfied: yfinance in c:\\users\\samsung\\appdata\\roaming\\spb_data\\.conda\\envs\\quantum_computing\\lib\\site-packages (from qiskit-aqua==0.8.1->qiskit->qiskit-textbook==0.1.0) (0.1.55)\n",
      "Requirement already satisfied: fastdtw in c:\\users\\samsung\\appdata\\roaming\\spb_data\\.conda\\envs\\quantum_computing\\lib\\site-packages (from qiskit-aqua==0.8.1->qiskit->qiskit-textbook==0.1.0) (0.3.4)\n",
      "Requirement already satisfied: retworkx>=0.5.0 in c:\\users\\samsung\\appdata\\roaming\\spb_data\\.conda\\envs\\quantum_computing\\lib\\site-packages (from qiskit-aqua==0.8.1->qiskit->qiskit-textbook==0.1.0) (0.7.2)\n",
      "Requirement already satisfied: docplex in c:\\users\\samsung\\appdata\\roaming\\spb_data\\.conda\\envs\\quantum_computing\\lib\\site-packages (from qiskit-aqua==0.8.1->qiskit->qiskit-textbook==0.1.0) (2.19.202)\n",
      "Requirement already satisfied: scikit-learn>=0.20.0 in c:\\users\\samsung\\appdata\\roaming\\spb_data\\.conda\\envs\\quantum_computing\\lib\\site-packages (from qiskit-aqua==0.8.1->qiskit->qiskit-textbook==0.1.0) (0.24.1)\n",
      "Requirement already satisfied: pandas in c:\\users\\samsung\\appdata\\roaming\\spb_data\\.conda\\envs\\quantum_computing\\lib\\site-packages (from qiskit-aqua==0.8.1->qiskit->qiskit-textbook==0.1.0) (1.2.1)\n",
      "Requirement already satisfied: websockets>=8 in c:\\users\\samsung\\appdata\\roaming\\spb_data\\.conda\\envs\\quantum_computing\\lib\\site-packages (from qiskit-ibmq-provider==0.11.1->qiskit->qiskit-textbook==0.1.0) (8.1)\n",
      "Requirement already satisfied: requests-ntlm>=1.1.0 in c:\\users\\samsung\\appdata\\roaming\\spb_data\\.conda\\envs\\quantum_computing\\lib\\site-packages (from qiskit-ibmq-provider==0.11.1->qiskit->qiskit-textbook==0.1.0) (1.1.0)\n",
      "Requirement already satisfied: urllib3>=1.21.1 in c:\\users\\samsung\\appdata\\roaming\\spb_data\\.conda\\envs\\quantum_computing\\lib\\site-packages (from qiskit-ibmq-provider==0.11.1->qiskit->qiskit-textbook==0.1.0) (1.26.2)\n",
      "Requirement already satisfied: requests>=2.19 in c:\\users\\samsung\\appdata\\roaming\\spb_data\\.conda\\envs\\quantum_computing\\lib\\site-packages (from qiskit-ibmq-provider==0.11.1->qiskit->qiskit-textbook==0.1.0) (2.25.1)\n",
      "Requirement already satisfied: fastjsonschema>=2.10 in c:\\users\\samsung\\appdata\\roaming\\spb_data\\.conda\\envs\\quantum_computing\\lib\\site-packages (from qiskit-terra==0.16.1->qiskit->qiskit-textbook==0.1.0) (2.14.5)\n",
      "Requirement already satisfied: ply>=3.10 in c:\\users\\samsung\\appdata\\roaming\\spb_data\\.conda\\envs\\quantum_computing\\lib\\site-packages (from qiskit-terra==0.16.1->qiskit->qiskit-textbook==0.1.0) (3.11)\n",
      "Requirement already satisfied: python-constraint>=1.4 in c:\\users\\samsung\\appdata\\roaming\\spb_data\\.conda\\envs\\quantum_computing\\lib\\site-packages (from qiskit-terra==0.16.1->qiskit->qiskit-textbook==0.1.0) (1.4.0)\n",
      "Requirement already satisfied: dill>=0.3 in c:\\users\\samsung\\appdata\\roaming\\spb_data\\.conda\\envs\\quantum_computing\\lib\\site-packages (from qiskit-terra==0.16.1->qiskit->qiskit-textbook==0.1.0) (0.3.3)\n",
      "Requirement already satisfied: networkx>=2.2 in c:\\users\\samsung\\appdata\\roaming\\spb_data\\.conda\\envs\\quantum_computing\\lib\\site-packages (from qiskit-terra==0.16.1->qiskit->qiskit-textbook==0.1.0) (2.5)\n",
      "Requirement already satisfied: chardet<5,>=3.0.2 in c:\\users\\samsung\\appdata\\roaming\\spb_data\\.conda\\envs\\quantum_computing\\lib\\site-packages (from requests>=2.19->qiskit-ibmq-provider==0.11.1->qiskit->qiskit-textbook==0.1.0) (4.0.0)\n",
      "Requirement already satisfied: certifi>=2017.4.17 in c:\\users\\samsung\\appdata\\roaming\\spb_data\\.conda\\envs\\quantum_computing\\lib\\site-packages (from requests>=2.19->qiskit-ibmq-provider==0.11.1->qiskit->qiskit-textbook==0.1.0) (2020.12.5)\n",
      "Requirement already satisfied: idna<3,>=2.5 in c:\\users\\samsung\\appdata\\roaming\\spb_data\\.conda\\envs\\quantum_computing\\lib\\site-packages (from requests>=2.19->qiskit-ibmq-provider==0.11.1->qiskit->qiskit-textbook==0.1.0) (2.10)\n",
      "Requirement already satisfied: cryptography>=1.3 in c:\\users\\samsung\\appdata\\roaming\\spb_data\\.conda\\envs\\quantum_computing\\lib\\site-packages (from requests-ntlm>=1.1.0->qiskit-ibmq-provider==0.11.1->qiskit->qiskit-textbook==0.1.0) (3.3.1)\n",
      "Requirement already satisfied: ntlm-auth>=1.0.2 in c:\\users\\samsung\\appdata\\roaming\\spb_data\\.conda\\envs\\quantum_computing\\lib\\site-packages (from requests-ntlm>=1.1.0->qiskit-ibmq-provider==0.11.1->qiskit->qiskit-textbook==0.1.0) (1.5.0)\n",
      "Requirement already satisfied: threadpoolctl>=2.0.0 in c:\\users\\samsung\\appdata\\roaming\\spb_data\\.conda\\envs\\quantum_computing\\lib\\site-packages (from scikit-learn>=0.20.0->qiskit-aqua==0.8.1->qiskit->qiskit-textbook==0.1.0) (2.1.0)\n",
      "Requirement already satisfied: joblib>=0.11 in c:\\users\\samsung\\appdata\\roaming\\spb_data\\.conda\\envs\\quantum_computing\\lib\\site-packages (from scikit-learn>=0.20.0->qiskit-aqua==0.8.1->qiskit->qiskit-textbook==0.1.0) (1.0.0)\n",
      "Requirement already satisfied: mpmath>=0.19 in c:\\users\\samsung\\appdata\\roaming\\spb_data\\.conda\\envs\\quantum_computing\\lib\\site-packages (from sympy>=1.3->qiskit-aqua==0.8.1->qiskit->qiskit-textbook==0.1.0) (1.1.0)\n",
      "Requirement already satisfied: cached-property in c:\\users\\samsung\\appdata\\roaming\\spb_data\\.conda\\envs\\quantum_computing\\lib\\site-packages (from h5py->qiskit-aqua==0.8.1->qiskit->qiskit-textbook==0.1.0) (1.5.2)\n",
      "Requirement already satisfied: pytz>=2017.3 in c:\\users\\samsung\\appdata\\roaming\\spb_data\\.conda\\envs\\quantum_computing\\lib\\site-packages (from pandas->qiskit-aqua==0.8.1->qiskit->qiskit-textbook==0.1.0) (2020.5)\n",
      "Requirement already satisfied: more-itertools in c:\\users\\samsung\\appdata\\roaming\\spb_data\\.conda\\envs\\quantum_computing\\lib\\site-packages (from quandl->qiskit-aqua==0.8.1->qiskit->qiskit-textbook==0.1.0) (8.6.0)\n",
      "Requirement already satisfied: inflection>=0.3.1 in c:\\users\\samsung\\appdata\\roaming\\spb_data\\.conda\\envs\\quantum_computing\\lib\\site-packages (from quandl->qiskit-aqua==0.8.1->qiskit->qiskit-textbook==0.1.0) (0.5.1)\n",
      "Requirement already satisfied: lxml>=4.5.1 in c:\\users\\samsung\\appdata\\roaming\\spb_data\\.conda\\envs\\quantum_computing\\lib\\site-packages (from yfinance->qiskit-aqua==0.8.1->qiskit->qiskit-textbook==0.1.0) (4.6.2)\n",
      "Requirement already satisfied: multitasking>=0.0.7 in c:\\users\\samsung\\appdata\\roaming\\spb_data\\.conda\\envs\\quantum_computing\\lib\\site-packages (from yfinance->qiskit-aqua==0.8.1->qiskit->qiskit-textbook==0.1.0) (0.0.9)\n",
      "Building wheels for collected packages: qiskit-textbook\n",
      "  Building wheel for qiskit-textbook (setup.py): started\n",
      "  Building wheel for qiskit-textbook (setup.py): finished with status 'done'\n",
      "  Created wheel for qiskit-textbook: filename=qiskit_textbook-0.1.0-py3-none-any.whl size=17069 sha256=e46f454dda398542803dedd516029bef4f8ac18d426b81385b5953d04f0f8e14\n",
      "  Stored in directory: C:\\Users\\Samsung\\AppData\\Local\\Temp\\pip-ephem-wheel-cache-6zxynnm7\\wheels\\71\\5a\\d9\\c90e2359a47893f51cf2ccd814aca4979bc32eb423b258aa25\n",
      "Successfully built qiskit-textbook\n",
      "Installing collected packages: qiskit-textbook\n",
      "Successfully installed qiskit-textbook-0.1.0\n"
     ]
    }
   ],
   "source": [
    "pip install git+https://github.com/qiskit-community/qiskit-textbook.git#subdirectory=qiskit-textbook-src"
   ]
  },
  {
   "cell_type": "code",
   "execution_count": 2,
   "id": "extra-replacement",
   "metadata": {
    "scrolled": true
   },
   "outputs": [
    {
     "name": "stdout",
     "output_type": "stream",
     "text": [
      "Requirement already satisfied: qiskit-ibmq-provider in c:\\users\\samsung\\appdata\\roaming\\spb_data\\.conda\\envs\\quantum_computing\\lib\\site-packages (0.11.1)Note: you may need to restart the kernel to use updated packages.\n",
      "Requirement already satisfied: nest-asyncio!=1.1.0,>=1.0.0 in c:\\users\\samsung\\appdata\\roaming\\spb_data\\.conda\\envs\\quantum_computing\\lib\\site-packages (from qiskit-ibmq-provider) (1.4.3)\n",
      "Requirement already satisfied: numpy>=1.13 in c:\\users\\samsung\\appdata\\roaming\\spb_data\\.conda\\envs\\quantum_computing\\lib\\site-packages (from qiskit-ibmq-provider) (1.19.5)\n",
      "Requirement already satisfied: requests>=2.19 in c:\\users\\samsung\\appdata\\roaming\\spb_data\\.conda\\envs\\quantum_computing\\lib\\site-packages (from qiskit-ibmq-provider) (2.25.1)\n",
      "Requirement already satisfied: python-dateutil>=2.8.0 in c:\\users\\samsung\\appdata\\roaming\\spb_data\\.conda\\envs\\quantum_computing\\lib\\site-packages (from qiskit-ibmq-provider) (2.8.1)\n",
      "Requirement already satisfied: urllib3>=1.21.1 in c:\\users\\samsung\\appdata\\roaming\\spb_data\\.conda\\envs\\quantum_computing\\lib\\site-packages (from qiskit-ibmq-provider) (1.26.2)\n",
      "Requirement already satisfied: qiskit-terra>=0.15 in c:\\users\\samsung\\appdata\\roaming\\spb_data\\.conda\\envs\\quantum_computing\\lib\\site-packages (from qiskit-ibmq-provider) (0.16.1)\n",
      "Requirement already satisfied: requests-ntlm>=1.1.0 in c:\\users\\samsung\\appdata\\roaming\\spb_data\\.conda\\envs\\quantum_computing\\lib\\site-packages (from qiskit-ibmq-provider) (1.1.0)\n",
      "Requirement already satisfied: websockets>=8 in c:\\users\\samsung\\appdata\\roaming\\spb_data\\.conda\\envs\\quantum_computing\\lib\\site-packages (from qiskit-ibmq-provider) (8.1)\n",
      "Requirement already satisfied: six>=1.5 in c:\\users\\samsung\\appdata\\roaming\\spb_data\\.conda\\envs\\quantum_computing\\lib\\site-packages (from python-dateutil>=2.8.0->qiskit-ibmq-provider) (1.15.0)\n",
      "Requirement already satisfied: fastjsonschema>=2.10 in c:\\users\\samsung\\appdata\\roaming\\spb_data\\.conda\\envs\\quantum_computing\\lib\\site-packages (from qiskit-terra>=0.15->qiskit-ibmq-provider) (2.14.5)\n",
      "Requirement already satisfied: networkx>=2.2 in c:\\users\\samsung\\appdata\\roaming\\spb_data\\.conda\\envs\\quantum_computing\\lib\\site-packages (from qiskit-terra>=0.15->qiskit-ibmq-provider) (2.5)\n",
      "Requirement already satisfied: sympy>=1.3 in c:\\users\\samsung\\appdata\\roaming\\spb_data\\.conda\\envs\\quantum_computing\\lib\\site-packages (from qiskit-terra>=0.15->qiskit-ibmq-provider) (1.7.1)\n",
      "Requirement already satisfied: dill>=0.3 in c:\\users\\samsung\\appdata\\roaming\\spb_data\\.conda\\envs\\quantum_computing\\lib\\site-packages (from qiskit-terra>=0.15->qiskit-ibmq-provider) (0.3.3)\n",
      "Requirement already satisfied: jsonschema>=2.6 in c:\\users\\samsung\\appdata\\roaming\\spb_data\\.conda\\envs\\quantum_computing\\lib\\site-packages (from qiskit-terra>=0.15->qiskit-ibmq-provider) (3.2.0)\n",
      "Requirement already satisfied: psutil>=5 in c:\\users\\samsung\\appdata\\roaming\\spb_data\\.conda\\envs\\quantum_computing\\lib\\site-packages (from qiskit-terra>=0.15->qiskit-ibmq-provider) (5.8.0)\n",
      "Requirement already satisfied: ply>=3.10 in c:\\users\\samsung\\appdata\\roaming\\spb_data\\.conda\\envs\\quantum_computing\\lib\\site-packages (from qiskit-terra>=0.15->qiskit-ibmq-provider) (3.11)\n",
      "Requirement already satisfied: python-constraint>=1.4 in c:\\users\\samsung\\appdata\\roaming\\spb_data\\.conda\\envs\\quantum_computing\\lib\\site-packages (from qiskit-terra>=0.15->qiskit-ibmq-provider) (1.4.0)\n",
      "Requirement already satisfied: scipy>=1.4 in c:\\users\\samsung\\appdata\\roaming\\spb_data\\.conda\\envs\\quantum_computing\\lib\\site-packages (from qiskit-terra>=0.15->qiskit-ibmq-provider) (1.6.0)\n",
      "Requirement already satisfied: retworkx>=0.5.0 in c:\\users\\samsung\\appdata\\roaming\\spb_data\\.conda\\envs\\quantum_computing\\lib\\site-packages (from qiskit-terra>=0.15->qiskit-ibmq-provider) (0.7.2)\n",
      "Requirement already satisfied: pyrsistent>=0.14.0 in c:\\users\\samsung\\appdata\\roaming\\spb_data\\.conda\\envs\\quantum_computing\\lib\\site-packages (from jsonschema>=2.6->qiskit-terra>=0.15->qiskit-ibmq-provider) (0.17.3)\n",
      "Requirement already satisfied: importlib-metadata in c:\\users\\samsung\\appdata\\roaming\\spb_data\\.conda\\envs\\quantum_computing\\lib\\site-packages (from jsonschema>=2.6->qiskit-terra>=0.15->qiskit-ibmq-provider) (3.4.0)\n",
      "Requirement already satisfied: attrs>=17.4.0 in c:\\users\\samsung\\appdata\\roaming\\spb_data\\.conda\\envs\\quantum_computing\\lib\\site-packages (from jsonschema>=2.6->qiskit-terra>=0.15->qiskit-ibmq-provider) (20.3.0)\n",
      "Requirement already satisfied: setuptools in c:\\users\\samsung\\appdata\\roaming\\spb_data\\.conda\\envs\\quantum_computing\\lib\\site-packages (from jsonschema>=2.6->qiskit-terra>=0.15->qiskit-ibmq-provider) (51.3.3.post20210118)\n",
      "Requirement already satisfied: decorator>=4.3.0 in c:\\users\\samsung\\appdata\\roaming\\spb_data\\.conda\\envs\\quantum_computing\\lib\\site-packages (from networkx>=2.2->qiskit-terra>=0.15->qiskit-ibmq-provider) (4.4.2)\n",
      "Requirement already satisfied: certifi>=2017.4.17 in c:\\users\\samsung\\appdata\\roaming\\spb_data\\.conda\\envs\\quantum_computing\\lib\\site-packages (from requests>=2.19->qiskit-ibmq-provider) (2020.12.5)\n",
      "Requirement already satisfied: idna<3,>=2.5 in c:\\users\\samsung\\appdata\\roaming\\spb_data\\.conda\\envs\\quantum_computing\\lib\\site-packages (from requests>=2.19->qiskit-ibmq-provider) (2.10)\n",
      "Requirement already satisfied: chardet<5,>=3.0.2 in c:\\users\\samsung\\appdata\\roaming\\spb_data\\.conda\\envs\\quantum_computing\\lib\\site-packages (from requests>=2.19->qiskit-ibmq-provider) (4.0.0)\n",
      "Requirement already satisfied: ntlm-auth>=1.0.2 in c:\\users\\samsung\\appdata\\roaming\\spb_data\\.conda\\envs\\quantum_computing\\lib\\site-packages (from requests-ntlm>=1.1.0->qiskit-ibmq-provider) (1.5.0)\n",
      "Requirement already satisfied: cryptography>=1.3 in c:\\users\\samsung\\appdata\\roaming\\spb_data\\.conda\\envs\\quantum_computing\\lib\\site-packages (from requests-ntlm>=1.1.0->qiskit-ibmq-provider) (3.3.1)\n",
      "Requirement already satisfied: cffi>=1.12 in c:\\users\\samsung\\appdata\\roaming\\spb_data\\.conda\\envs\\quantum_computing\\lib\\site-packages (from cryptography>=1.3->requests-ntlm>=1.1.0->qiskit-ibmq-provider) (1.14.4)\n",
      "Requirement already satisfied: pycparser in c:\\users\\samsung\\appdata\\roaming\\spb_data\\.conda\\envs\\quantum_computing\\lib\\site-packages (from cffi>=1.12->cryptography>=1.3->requests-ntlm>=1.1.0->qiskit-ibmq-provider) (2.20)\n",
      "Requirement already satisfied: mpmath>=0.19 in c:\\users\\samsung\\appdata\\roaming\\spb_data\\.conda\\envs\\quantum_computing\\lib\\site-packages (from sympy>=1.3->qiskit-terra>=0.15->qiskit-ibmq-provider) (1.1.0)\n",
      "Requirement already satisfied: zipp>=0.5 in c:\\users\\samsung\\appdata\\roaming\\spb_data\\.conda\\envs\\quantum_computing\\lib\\site-packages (from importlib-metadata->jsonschema>=2.6->qiskit-terra>=0.15->qiskit-ibmq-provider) (3.4.0)\n",
      "Requirement already satisfied: typing-extensions>=3.6.4 in c:\\users\\samsung\\appdata\\roaming\\spb_data\\.conda\\envs\\quantum_computing\\lib\\site-packages (from importlib-metadata->jsonschema>=2.6->qiskit-terra>=0.15->qiskit-ibmq-provider) (3.7.4.3)\n",
      "\n"
     ]
    }
   ],
   "source": [
    "pip install qiskit-ibmq-provider"
   ]
  },
  {
   "cell_type": "code",
   "execution_count": 55,
   "id": "economic-arena",
   "metadata": {},
   "outputs": [
    {
     "name": "stdout",
     "output_type": "stream",
     "text": [
      "Collecting qiskit_ionqNote: you may need to restart the kernel to use updated packages.\n"
     ]
    },
    {
     "name": "stderr",
     "output_type": "stream",
     "text": [
      "ERROR: pip's dependency resolver does not currently take into account all the packages that are installed. This behaviour is the source of the following dependency conflicts.\n",
      "qiskit 0.23.2 requires qiskit-terra==0.16.1, but you have qiskit-terra 0.17.4 which is incompatible.\n"
     ]
    },
    {
     "name": "stdout",
     "output_type": "stream",
     "text": [
      "\n",
      "  Using cached qiskit_ionq-0.1.4-py3-none-any.whl (31 kB)\n",
      "Requirement already satisfied: requests>=2.24.0 in c:\\users\\samsung\\appdata\\roaming\\spb_data\\.conda\\envs\\quantum_computing\\lib\\site-packages (from qiskit_ionq) (2.25.1)\n",
      "Collecting qiskit-terra>=0.17.4\n",
      "  Using cached qiskit_terra-0.17.4-cp37-cp37m-win_amd64.whl (5.2 MB)\n",
      "Requirement already satisfied: sympy>=1.3 in c:\\users\\samsung\\appdata\\roaming\\spb_data\\.conda\\envs\\quantum_computing\\lib\\site-packages (from qiskit-terra>=0.17.4->qiskit_ionq) (1.7.1)\n",
      "Requirement already satisfied: jsonschema>=2.6 in c:\\users\\samsung\\appdata\\roaming\\spb_data\\.conda\\envs\\quantum_computing\\lib\\site-packages (from qiskit-terra>=0.17.4->qiskit_ionq) (3.2.0)\n",
      "Requirement already satisfied: retworkx>=0.8.0 in c:\\users\\samsung\\appdata\\roaming\\spb_data\\.conda\\envs\\quantum_computing\\lib\\site-packages (from qiskit-terra>=0.17.4->qiskit_ionq) (0.9.0)\n",
      "Requirement already satisfied: numpy>=1.17 in c:\\users\\samsung\\appdata\\roaming\\spb_data\\.conda\\envs\\quantum_computing\\lib\\site-packages (from qiskit-terra>=0.17.4->qiskit_ionq) (1.19.5)\n",
      "Requirement already satisfied: psutil>=5 in c:\\users\\samsung\\appdata\\roaming\\spb_data\\.conda\\envs\\quantum_computing\\lib\\site-packages (from qiskit-terra>=0.17.4->qiskit_ionq) (5.8.0)\n",
      "Requirement already satisfied: fastjsonschema>=2.10 in c:\\users\\samsung\\appdata\\roaming\\spb_data\\.conda\\envs\\quantum_computing\\lib\\site-packages (from qiskit-terra>=0.17.4->qiskit_ionq) (2.14.5)\n",
      "Requirement already satisfied: python-constraint>=1.4 in c:\\users\\samsung\\appdata\\roaming\\spb_data\\.conda\\envs\\quantum_computing\\lib\\site-packages (from qiskit-terra>=0.17.4->qiskit_ionq) (1.4.0)\n",
      "Requirement already satisfied: dill>=0.3 in c:\\users\\samsung\\appdata\\roaming\\spb_data\\.conda\\envs\\quantum_computing\\lib\\site-packages (from qiskit-terra>=0.17.4->qiskit_ionq) (0.3.3)\n",
      "Requirement already satisfied: python-dateutil>=2.8.0 in c:\\users\\samsung\\appdata\\roaming\\spb_data\\.conda\\envs\\quantum_computing\\lib\\site-packages (from qiskit-terra>=0.17.4->qiskit_ionq) (2.8.1)\n",
      "Requirement already satisfied: scipy>=1.4 in c:\\users\\samsung\\appdata\\roaming\\spb_data\\.conda\\envs\\quantum_computing\\lib\\site-packages (from qiskit-terra>=0.17.4->qiskit_ionq) (1.6.0)\n",
      "Requirement already satisfied: ply>=3.10 in c:\\users\\samsung\\appdata\\roaming\\spb_data\\.conda\\envs\\quantum_computing\\lib\\site-packages (from qiskit-terra>=0.17.4->qiskit_ionq) (3.11)\n",
      "Requirement already satisfied: setuptools in c:\\users\\samsung\\appdata\\roaming\\spb_data\\.conda\\envs\\quantum_computing\\lib\\site-packages (from jsonschema>=2.6->qiskit-terra>=0.17.4->qiskit_ionq) (51.3.3.post20210118)\n",
      "Requirement already satisfied: six>=1.11.0 in c:\\users\\samsung\\appdata\\roaming\\spb_data\\.conda\\envs\\quantum_computing\\lib\\site-packages (from jsonschema>=2.6->qiskit-terra>=0.17.4->qiskit_ionq) (1.15.0)\n",
      "Requirement already satisfied: attrs>=17.4.0 in c:\\users\\samsung\\appdata\\roaming\\spb_data\\.conda\\envs\\quantum_computing\\lib\\site-packages (from jsonschema>=2.6->qiskit-terra>=0.17.4->qiskit_ionq) (20.3.0)\n",
      "Requirement already satisfied: importlib-metadata in c:\\users\\samsung\\appdata\\roaming\\spb_data\\.conda\\envs\\quantum_computing\\lib\\site-packages (from jsonschema>=2.6->qiskit-terra>=0.17.4->qiskit_ionq) (3.4.0)\n",
      "Requirement already satisfied: pyrsistent>=0.14.0 in c:\\users\\samsung\\appdata\\roaming\\spb_data\\.conda\\envs\\quantum_computing\\lib\\site-packages (from jsonschema>=2.6->qiskit-terra>=0.17.4->qiskit_ionq) (0.17.3)\n",
      "Requirement already satisfied: certifi>=2017.4.17 in c:\\users\\samsung\\appdata\\roaming\\spb_data\\.conda\\envs\\quantum_computing\\lib\\site-packages (from requests>=2.24.0->qiskit_ionq) (2020.12.5)\n",
      "Requirement already satisfied: idna<3,>=2.5 in c:\\users\\samsung\\appdata\\roaming\\spb_data\\.conda\\envs\\quantum_computing\\lib\\site-packages (from requests>=2.24.0->qiskit_ionq) (2.10)\n",
      "Requirement already satisfied: urllib3<1.27,>=1.21.1 in c:\\users\\samsung\\appdata\\roaming\\spb_data\\.conda\\envs\\quantum_computing\\lib\\site-packages (from requests>=2.24.0->qiskit_ionq) (1.26.2)\n",
      "Requirement already satisfied: chardet<5,>=3.0.2 in c:\\users\\samsung\\appdata\\roaming\\spb_data\\.conda\\envs\\quantum_computing\\lib\\site-packages (from requests>=2.24.0->qiskit_ionq) (4.0.0)\n",
      "Requirement already satisfied: mpmath>=0.19 in c:\\users\\samsung\\appdata\\roaming\\spb_data\\.conda\\envs\\quantum_computing\\lib\\site-packages (from sympy>=1.3->qiskit-terra>=0.17.4->qiskit_ionq) (1.1.0)\n",
      "Requirement already satisfied: zipp>=0.5 in c:\\users\\samsung\\appdata\\roaming\\spb_data\\.conda\\envs\\quantum_computing\\lib\\site-packages (from importlib-metadata->jsonschema>=2.6->qiskit-terra>=0.17.4->qiskit_ionq) (3.4.0)\n",
      "Requirement already satisfied: typing-extensions>=3.6.4 in c:\\users\\samsung\\appdata\\roaming\\spb_data\\.conda\\envs\\quantum_computing\\lib\\site-packages (from importlib-metadata->jsonschema>=2.6->qiskit-terra>=0.17.4->qiskit_ionq) (3.7.4.3)\n",
      "Installing collected packages: qiskit-terra, qiskit-ionq\n",
      "Successfully installed qiskit-ionq-0.1.4 qiskit-terra-0.17.4\n"
     ]
    }
   ],
   "source": [
    "pip install qiskit_ionq --user"
   ]
  },
  {
   "cell_type": "code",
   "execution_count": 40,
   "id": "plain-april",
   "metadata": {},
   "outputs": [],
   "source": [
    "import numpy as np\n",
    "from qiskit import *\n",
    "from qiskit import QuantumCircuit, QuantumRegister, ClassicalRegister\n",
    "from qiskit import IBMQ, Aer, transpile, assemble\n",
    "from qiskit.visualization import plot_histogram, plot_bloch_multivector\n",
    "from qiskit.extensions import Initialize\n",
    "from qiskit_textbook.tools import random_state, array_to_latex"
   ]
  },
  {
   "cell_type": "code",
   "execution_count": 41,
   "id": "inappropriate-prefix",
   "metadata": {},
   "outputs": [],
   "source": [
    "%matplotlib inline\n",
    "#Quantum Entanglement Swapping Protocol\n",
    "#Alice and bob should has the same bit using quantum entanglement without any direct interations like magic."
   ]
  },
  {
   "cell_type": "code",
   "execution_count": 42,
   "id": "lined-smell",
   "metadata": {},
   "outputs": [],
   "source": [
    "def make_entanglement_cnot(qc, a, b):\n",
    "    qc.h(a)\n",
    "    qc.cx(a, b)\n",
    "#def make_entanglement_swap(qc, a, b):\n",
    "    #qc.h(a)\n",
    "    #qc.Swapgate(a,b)\n",
    "#def make_entanglement_iswap(qc, a, b):\n",
    "    #qc.h(a)\n",
    "    #qc.iSwapgate(a,b)\n",
    "def make_connect(qc, a, b):\n",
    "    qc.cx(a, b)\n",
    "    qc.h(a)\n",
    "def measure_pair(qc, a, b):\n",
    "    qc.measure(a, a)\n",
    "    qc.measure(b, b)"
   ]
  },
  {
   "cell_type": "code",
   "execution_count": 43,
   "id": "social-context",
   "metadata": {},
   "outputs": [],
   "source": [
    "qr = QuantumRegister(4)#prepare 4-qubits\n",
    "cr = ClassicalRegister(4)#preare 4-bits\n",
    "qc = QuantumCircuit(qr, cr)#make Quantum Circuit"
   ]
  },
  {
   "cell_type": "code",
   "execution_count": 44,
   "id": "brutal-postcard",
   "metadata": {},
   "outputs": [
    {
     "data": {
      "text/plain": [
       "<qiskit.circuit.instructionset.InstructionSet at 0x2e6339ffd08>"
      ]
     },
     "execution_count": 44,
     "metadata": {},
     "output_type": "execute_result"
    }
   ],
   "source": [
    "#make bell state\n",
    "make_entanglement_cnot(qc, 0, 1)\n",
    "make_entanglement_cnot(qc, 2, 3)\n",
    "qc.barrier()\n",
    "#connect each bell pair\n",
    "make_connect(qc, 1, 2)\n",
    "qc.barrier()\n",
    "#apply more operations to achieve our purpose : bob and alice has the same bit\n",
    "qc.cz(1, 0)\n",
    "qc.cx(2, 3)"
   ]
  },
  {
   "cell_type": "code",
   "execution_count": 45,
   "id": "retired-teens",
   "metadata": {},
   "outputs": [
    {
     "data": {
      "image/png": "[encoded data removed]",
      "text/plain": [
       "<Figure size 714.995x325.08 with 1 Axes>"
      ]
     },
     "execution_count": 45,
     "metadata": {},
     "output_type": "execute_result"
    }
   ],
   "source": [
    "#measure qubits\n",
    "qc.barrier()\n",
    "qc.measure(0, 0)\n",
    "qc.measure(3, 3)\n",
    "qc.draw(output)"
   ]
  },
  {
   "cell_type": "code",
   "execution_count": 46,
   "id": "illegal-promise",
   "metadata": {},
   "outputs": [
    {
     "data": {
      "image/png": "[encoded data removed]",
      "text/plain": [
       "<Figure size 504x360 with 1 Axes>"
      ]
     },
     "execution_count": 46,
     "metadata": {},
     "output_type": "execute_result"
    }
   ],
   "source": [
    "#simulator result\n",
    "simulator = Aer.get_backend('qasm_simulator')\n",
    "result = execute(qc, backend=simulator).result()\n",
    "plot_histogram(result.get_counts(qc))"
   ]
  },
  {
   "cell_type": "code",
   "execution_count": 47,
   "id": "cardiovascular-vatican",
   "metadata": {},
   "outputs": [
    {
     "name": "stderr",
     "output_type": "stream",
     "text": [
      "ibmqfactory.load_account:WARNING:2021-07-03 13:32:27,433: Credentials are already in use. The existing account in the session will be replaced.\n"
     ]
    }
   ],
   "source": [
    "#real machine date - ibm hardware\n",
    "IBMQ.load_account()\n",
    "provider = IBMQ.get_provider(hub='ibm-q')"
   ]
  },
  {
   "cell_type": "code",
   "execution_count": 48,
   "id": "guided-defensive",
   "metadata": {},
   "outputs": [
    {
     "name": "stdout",
     "output_type": "stream",
     "text": [
      "Job Status: job has successfully run\n"
     ]
    }
   ],
   "source": [
    "qcomp = provider.get_backend('ibmq_16_melbourne')\n",
    "job = execute(qc, backend=qcomp)\n",
    "from qiskit.tools.monitor import job_monitor\n",
    "job_monitor(job)"
   ]
  },
  {
   "cell_type": "code",
   "execution_count": 72,
   "id": "secret-cricket",
   "metadata": {},
   "outputs": [
    {
     "ename": "AttributeError",
     "evalue": "'NoneType' object has no attribute 'get_counts'",
     "output_type": "error",
     "traceback": [
      "\u001b[1;31m---------------------------------------------------------------------------\u001b[0m",
      "\u001b[1;31mAttributeError\u001b[0m                            Traceback (most recent call last)",
      "\u001b[1;32m<ipython-input-72-46d036faacb0>\u001b[0m in \u001b[0;36m<module>\u001b[1;34m\u001b[0m\n\u001b[0;32m      1\u001b[0m \u001b[1;31m# Get the results and display them\u001b[0m\u001b[1;33m\u001b[0m\u001b[1;33m\u001b[0m\u001b[1;33m\u001b[0m\u001b[0m\n\u001b[0;32m      2\u001b[0m \u001b[0mexp_result\u001b[0m \u001b[1;33m=\u001b[0m \u001b[0mjob\u001b[0m\u001b[1;33m.\u001b[0m\u001b[0mresult\u001b[0m\u001b[1;33m(\u001b[0m\u001b[1;33m)\u001b[0m\u001b[1;33m\u001b[0m\u001b[1;33m\u001b[0m\u001b[0m\n\u001b[1;32m----> 3\u001b[1;33m \u001b[0mexp_counts\u001b[0m \u001b[1;33m=\u001b[0m \u001b[0mexp_result\u001b[0m\u001b[1;33m.\u001b[0m\u001b[0mget_counts\u001b[0m\u001b[1;33m(\u001b[0m\u001b[0mqc\u001b[0m\u001b[1;33m)\u001b[0m\u001b[1;33m\u001b[0m\u001b[1;33m\u001b[0m\u001b[0m\n\u001b[0m\u001b[0;32m      4\u001b[0m \u001b[0mprint\u001b[0m\u001b[1;33m(\u001b[0m\u001b[0mexp_counts\u001b[0m\u001b[1;33m)\u001b[0m\u001b[1;33m\u001b[0m\u001b[1;33m\u001b[0m\u001b[0m\n\u001b[0;32m      5\u001b[0m \u001b[0mplot_histogram\u001b[0m\u001b[1;33m(\u001b[0m\u001b[0mexp_counts\u001b[0m\u001b[1;33m)\u001b[0m\u001b[1;33m\u001b[0m\u001b[1;33m\u001b[0m\u001b[0m\n",
      "\u001b[1;31mAttributeError\u001b[0m: 'NoneType' object has no attribute 'get_counts'"
     ]
    }
   ],
   "source": [
    "# Get the results and display them\n",
    "exp_result = job.result()\n",
    "exp_counts = exp_result.get_counts(qc)\n",
    "print(exp_counts)\n",
    "plot_histogram(exp_counts)"
   ]
  },
  {
   "cell_type": "code",
   "execution_count": 73,
   "id": "growing-platinum",
   "metadata": {},
   "outputs": [
    {
     "ename": "KeyError",
     "evalue": "'1'",
     "output_type": "error",
     "traceback": [
      "\u001b[1;31m---------------------------------------------------------------------------\u001b[0m",
      "\u001b[1;31mKeyError\u001b[0m                                  Traceback (most recent call last)",
      "\u001b[1;32m<ipython-input-73-54e4e20c8c80>\u001b[0m in \u001b[0;36m<module>\u001b[1;34m\u001b[0m\n\u001b[1;32m----> 1\u001b[1;33m \u001b[0mprint\u001b[0m\u001b[1;33m(\u001b[0m\u001b[1;34mf\"The experimental error rate : {exp_counts['1']/sum(exp_counts.values()):.3f}%\"\u001b[0m\u001b[1;33m)\u001b[0m\u001b[1;33m\u001b[0m\u001b[1;33m\u001b[0m\u001b[0m\n\u001b[0m",
      "\u001b[1;31mKeyError\u001b[0m: '1'"
     ]
    }
   ],
   "source": [
    "print(f\"The experimental error rate : {exp_counts['1']/sum(exp_counts.values()):.3f}%\")"
   ]
  },
  {
   "cell_type": "code",
   "execution_count": 66,
   "id": "portable-technique",
   "metadata": {},
   "outputs": [
    {
     "ename": "TypeError",
     "evalue": "__init__() got an unexpected keyword argument 'probabilities'",
     "output_type": "error",
     "traceback": [
      "\u001b[1;31m---------------------------------------------------------------------------\u001b[0m",
      "\u001b[1;31mTypeError\u001b[0m                                 Traceback (most recent call last)",
      "\u001b[1;32m<ipython-input-66-80f1c0fe1631>\u001b[0m in \u001b[0;36m<module>\u001b[1;34m\u001b[0m\n\u001b[0;32m      4\u001b[0m \u001b[0msimulator_backend\u001b[0m \u001b[1;33m=\u001b[0m \u001b[0mprovider\u001b[0m\u001b[1;33m.\u001b[0m\u001b[0mget_backend\u001b[0m\u001b[1;33m(\u001b[0m\u001b[1;34m\"ionq_simulator\"\u001b[0m\u001b[1;33m)\u001b[0m\u001b[1;33m\u001b[0m\u001b[1;33m\u001b[0m\u001b[0m\n\u001b[0;32m      5\u001b[0m \u001b[0mjob\u001b[0m \u001b[1;33m=\u001b[0m \u001b[0msimulator_backend\u001b[0m\u001b[1;33m.\u001b[0m\u001b[0mrun\u001b[0m\u001b[1;33m(\u001b[0m\u001b[0mqc\u001b[0m\u001b[1;33m,\u001b[0m \u001b[0mshots\u001b[0m\u001b[1;33m=\u001b[0m\u001b[1;36m1024\u001b[0m\u001b[1;33m)\u001b[0m\u001b[1;33m\u001b[0m\u001b[1;33m\u001b[0m\u001b[0m\n\u001b[1;32m----> 6\u001b[1;33m \u001b[0mprint\u001b[0m\u001b[1;33m(\u001b[0m\u001b[0mjob\u001b[0m\u001b[1;33m.\u001b[0m\u001b[0mget_counts\u001b[0m\u001b[1;33m(\u001b[0m\u001b[1;33m)\u001b[0m\u001b[1;33m)\u001b[0m\u001b[1;33m\u001b[0m\u001b[1;33m\u001b[0m\u001b[0m\n\u001b[0m",
      "\u001b[1;32mC:\\Users\\Samsung\\AppData\\Roaming\\Python\\Python37\\site-packages\\qiskit_ionq\\ionq_job.py\u001b[0m in \u001b[0;36mget_counts\u001b[1;34m(self, circuit)\u001b[0m\n\u001b[0;32m    202\u001b[0m             \u001b[0mdict\u001b[0m\u001b[1;33m:\u001b[0m \u001b[0mA\u001b[0m \u001b[0mdictionary\u001b[0m \u001b[0mof\u001b[0m \u001b[0mcounts\u001b[0m\u001b[1;33m.\u001b[0m\u001b[1;33m\u001b[0m\u001b[1;33m\u001b[0m\u001b[0m\n\u001b[0;32m    203\u001b[0m         \"\"\"\n\u001b[1;32m--> 204\u001b[1;33m         \u001b[1;32mreturn\u001b[0m \u001b[0mself\u001b[0m\u001b[1;33m.\u001b[0m\u001b[0mresult\u001b[0m\u001b[1;33m(\u001b[0m\u001b[1;33m)\u001b[0m\u001b[1;33m.\u001b[0m\u001b[0mget_counts\u001b[0m\u001b[1;33m(\u001b[0m\u001b[0mcircuit\u001b[0m\u001b[1;33m)\u001b[0m\u001b[1;33m\u001b[0m\u001b[1;33m\u001b[0m\u001b[0m\n\u001b[0m\u001b[0;32m    205\u001b[0m \u001b[1;33m\u001b[0m\u001b[0m\n\u001b[0;32m    206\u001b[0m     \u001b[1;32mdef\u001b[0m \u001b[0mget_probabilities\u001b[0m\u001b[1;33m(\u001b[0m\u001b[0mself\u001b[0m\u001b[1;33m,\u001b[0m \u001b[0mcircuit\u001b[0m\u001b[1;33m=\u001b[0m\u001b[1;32mNone\u001b[0m\u001b[1;33m)\u001b[0m\u001b[1;33m:\u001b[0m  \u001b[1;31m# pylint: disable=unused-argument\u001b[0m\u001b[1;33m\u001b[0m\u001b[1;33m\u001b[0m\u001b[0m\n",
      "\u001b[1;32mC:\\Users\\Samsung\\AppData\\Roaming\\Python\\Python37\\site-packages\\qiskit_ionq\\ionq_job.py\u001b[0m in \u001b[0;36mresult\u001b[1;34m(self)\u001b[0m\n\u001b[0;32m    247\u001b[0m         \u001b[1;31m# Wait for the job to complete.\u001b[0m\u001b[1;33m\u001b[0m\u001b[1;33m\u001b[0m\u001b[1;33m\u001b[0m\u001b[0m\n\u001b[0;32m    248\u001b[0m         \u001b[1;32mtry\u001b[0m\u001b[1;33m:\u001b[0m\u001b[1;33m\u001b[0m\u001b[1;33m\u001b[0m\u001b[0m\n\u001b[1;32m--> 249\u001b[1;33m             \u001b[0mself\u001b[0m\u001b[1;33m.\u001b[0m\u001b[0mwait_for_final_state\u001b[0m\u001b[1;33m(\u001b[0m\u001b[1;33m)\u001b[0m\u001b[1;33m\u001b[0m\u001b[1;33m\u001b[0m\u001b[0m\n\u001b[0m\u001b[0;32m    250\u001b[0m         \u001b[1;32mexcept\u001b[0m \u001b[0mJobTimeoutError\u001b[0m \u001b[1;32mas\u001b[0m \u001b[0mex\u001b[0m\u001b[1;33m:\u001b[0m\u001b[1;33m\u001b[0m\u001b[1;33m\u001b[0m\u001b[0m\n\u001b[0;32m    251\u001b[0m             \u001b[1;32mraise\u001b[0m \u001b[0mexceptions\u001b[0m\u001b[1;33m.\u001b[0m\u001b[0mIonQJobTimeoutError\u001b[0m\u001b[1;33m(\u001b[0m\u001b[1;34m\"Timed out waiting for job to complete.\"\u001b[0m\u001b[1;33m)\u001b[0m \u001b[1;32mfrom\u001b[0m \u001b[0mex\u001b[0m\u001b[1;33m\u001b[0m\u001b[1;33m\u001b[0m\u001b[0m\n",
      "\u001b[1;32mc:\\users\\samsung\\appdata\\roaming\\spb_data\\.conda\\envs\\quantum_computing\\lib\\site-packages\\qiskit\\providers\\job.py\u001b[0m in \u001b[0;36mwait_for_final_state\u001b[1;34m(self, timeout, wait, callback)\u001b[0m\n\u001b[0;32m    110\u001b[0m             \u001b[1;32mreturn\u001b[0m\u001b[1;33m\u001b[0m\u001b[1;33m\u001b[0m\u001b[0m\n\u001b[0;32m    111\u001b[0m         \u001b[0mstart_time\u001b[0m \u001b[1;33m=\u001b[0m \u001b[0mtime\u001b[0m\u001b[1;33m.\u001b[0m\u001b[0mtime\u001b[0m\u001b[1;33m(\u001b[0m\u001b[1;33m)\u001b[0m\u001b[1;33m\u001b[0m\u001b[1;33m\u001b[0m\u001b[0m\n\u001b[1;32m--> 112\u001b[1;33m         \u001b[0mstatus\u001b[0m \u001b[1;33m=\u001b[0m \u001b[0mself\u001b[0m\u001b[1;33m.\u001b[0m\u001b[0mstatus\u001b[0m\u001b[1;33m(\u001b[0m\u001b[1;33m)\u001b[0m\u001b[1;33m\u001b[0m\u001b[1;33m\u001b[0m\u001b[0m\n\u001b[0m\u001b[0;32m    113\u001b[0m         \u001b[1;32mwhile\u001b[0m \u001b[0mstatus\u001b[0m \u001b[1;32mnot\u001b[0m \u001b[1;32min\u001b[0m \u001b[0mJOB_FINAL_STATES\u001b[0m\u001b[1;33m:\u001b[0m\u001b[1;33m\u001b[0m\u001b[1;33m\u001b[0m\u001b[0m\n\u001b[0;32m    114\u001b[0m             \u001b[0melapsed_time\u001b[0m \u001b[1;33m=\u001b[0m \u001b[0mtime\u001b[0m\u001b[1;33m.\u001b[0m\u001b[0mtime\u001b[0m\u001b[1;33m(\u001b[0m\u001b[1;33m)\u001b[0m \u001b[1;33m-\u001b[0m \u001b[0mstart_time\u001b[0m\u001b[1;33m\u001b[0m\u001b[1;33m\u001b[0m\u001b[0m\n",
      "\u001b[1;32mC:\\Users\\Samsung\\AppData\\Roaming\\Python\\Python37\\site-packages\\qiskit_ionq\\ionq_job.py\u001b[0m in \u001b[0;36mstatus\u001b[1;34m(self)\u001b[0m\n\u001b[0;32m    299\u001b[0m         \u001b[1;31m# so we don't have to make an API call again if user wants results\u001b[0m\u001b[1;33m\u001b[0m\u001b[1;33m\u001b[0m\u001b[1;33m\u001b[0m\u001b[0m\n\u001b[0;32m    300\u001b[0m         \u001b[1;32mif\u001b[0m \u001b[0mself\u001b[0m\u001b[1;33m.\u001b[0m\u001b[0m_status\u001b[0m \u001b[1;32min\u001b[0m \u001b[0mjobstatus\u001b[0m\u001b[1;33m.\u001b[0m\u001b[0mJOB_FINAL_STATES\u001b[0m\u001b[1;33m:\u001b[0m\u001b[1;33m\u001b[0m\u001b[1;33m\u001b[0m\u001b[0m\n\u001b[1;32m--> 301\u001b[1;33m             \u001b[0mself\u001b[0m\u001b[1;33m.\u001b[0m\u001b[0m_result\u001b[0m \u001b[1;33m=\u001b[0m \u001b[0mself\u001b[0m\u001b[1;33m.\u001b[0m\u001b[0m_format_result\u001b[0m\u001b[1;33m(\u001b[0m\u001b[0mresponse\u001b[0m\u001b[1;33m)\u001b[0m\u001b[1;33m\u001b[0m\u001b[1;33m\u001b[0m\u001b[0m\n\u001b[0m\u001b[0;32m    302\u001b[0m \u001b[1;33m\u001b[0m\u001b[0m\n\u001b[0;32m    303\u001b[0m         \u001b[1;32mreturn\u001b[0m \u001b[0mself\u001b[0m\u001b[1;33m.\u001b[0m\u001b[0m_status\u001b[0m\u001b[1;33m\u001b[0m\u001b[1;33m\u001b[0m\u001b[0m\n",
      "\u001b[1;32mC:\\Users\\Samsung\\AppData\\Roaming\\Python\\Python37\\site-packages\\qiskit_ionq\\ionq_job.py\u001b[0m in \u001b[0;36m_format_result\u001b[1;34m(self, result)\u001b[0m\n\u001b[0;32m    369\u001b[0m                 \u001b[1;34m\"qobj_id\"\u001b[0m\u001b[1;33m:\u001b[0m \u001b[0mmetadata\u001b[0m\u001b[1;33m.\u001b[0m\u001b[0mget\u001b[0m\u001b[1;33m(\u001b[0m\u001b[1;34m\"qobj_id\"\u001b[0m\u001b[1;33m)\u001b[0m\u001b[1;33m,\u001b[0m\u001b[1;33m\u001b[0m\u001b[1;33m\u001b[0m\u001b[0m\n\u001b[0;32m    370\u001b[0m                 \u001b[1;34m\"success\"\u001b[0m\u001b[1;33m:\u001b[0m \u001b[0msuccess\u001b[0m\u001b[1;33m,\u001b[0m\u001b[1;33m\u001b[0m\u001b[1;33m\u001b[0m\u001b[0m\n\u001b[1;32m--> 371\u001b[1;33m                 \u001b[1;34m\"time_taken\"\u001b[0m\u001b[1;33m:\u001b[0m \u001b[0mtime_taken\u001b[0m\u001b[1;33m,\u001b[0m\u001b[1;33m\u001b[0m\u001b[1;33m\u001b[0m\u001b[0m\n\u001b[0m\u001b[0;32m    372\u001b[0m             }\n\u001b[0;32m    373\u001b[0m         )\n",
      "\u001b[1;32mc:\\users\\samsung\\appdata\\roaming\\spb_data\\.conda\\envs\\quantum_computing\\lib\\site-packages\\qiskit\\result\\result.py\u001b[0m in \u001b[0;36mfrom_dict\u001b[1;34m(cls, data)\u001b[0m\n\u001b[0;32m    125\u001b[0m         \u001b[0min_data\u001b[0m \u001b[1;33m=\u001b[0m \u001b[0mcopy\u001b[0m\u001b[1;33m.\u001b[0m\u001b[0mcopy\u001b[0m\u001b[1;33m(\u001b[0m\u001b[0mdata\u001b[0m\u001b[1;33m)\u001b[0m\u001b[1;33m\u001b[0m\u001b[1;33m\u001b[0m\u001b[0m\n\u001b[0;32m    126\u001b[0m         in_data['results'] = [\n\u001b[1;32m--> 127\u001b[1;33m             ExperimentResult.from_dict(x) for x in in_data.pop('results')]\n\u001b[0m\u001b[0;32m    128\u001b[0m         \u001b[1;32mif\u001b[0m \u001b[1;34m'header'\u001b[0m \u001b[1;32min\u001b[0m \u001b[0min_data\u001b[0m\u001b[1;33m:\u001b[0m\u001b[1;33m\u001b[0m\u001b[1;33m\u001b[0m\u001b[0m\n\u001b[0;32m    129\u001b[0m             \u001b[0min_data\u001b[0m\u001b[1;33m[\u001b[0m\u001b[1;34m'header'\u001b[0m\u001b[1;33m]\u001b[0m \u001b[1;33m=\u001b[0m \u001b[0mQobjHeader\u001b[0m\u001b[1;33m.\u001b[0m\u001b[0mfrom_dict\u001b[0m\u001b[1;33m(\u001b[0m\u001b[0min_data\u001b[0m\u001b[1;33m.\u001b[0m\u001b[0mpop\u001b[0m\u001b[1;33m(\u001b[0m\u001b[1;34m'header'\u001b[0m\u001b[1;33m)\u001b[0m\u001b[1;33m)\u001b[0m\u001b[1;33m\u001b[0m\u001b[1;33m\u001b[0m\u001b[0m\n",
      "\u001b[1;32mc:\\users\\samsung\\appdata\\roaming\\spb_data\\.conda\\envs\\quantum_computing\\lib\\site-packages\\qiskit\\result\\result.py\u001b[0m in \u001b[0;36m<listcomp>\u001b[1;34m(.0)\u001b[0m\n\u001b[0;32m    125\u001b[0m         \u001b[0min_data\u001b[0m \u001b[1;33m=\u001b[0m \u001b[0mcopy\u001b[0m\u001b[1;33m.\u001b[0m\u001b[0mcopy\u001b[0m\u001b[1;33m(\u001b[0m\u001b[0mdata\u001b[0m\u001b[1;33m)\u001b[0m\u001b[1;33m\u001b[0m\u001b[1;33m\u001b[0m\u001b[0m\n\u001b[0;32m    126\u001b[0m         in_data['results'] = [\n\u001b[1;32m--> 127\u001b[1;33m             ExperimentResult.from_dict(x) for x in in_data.pop('results')]\n\u001b[0m\u001b[0;32m    128\u001b[0m         \u001b[1;32mif\u001b[0m \u001b[1;34m'header'\u001b[0m \u001b[1;32min\u001b[0m \u001b[0min_data\u001b[0m\u001b[1;33m:\u001b[0m\u001b[1;33m\u001b[0m\u001b[1;33m\u001b[0m\u001b[0m\n\u001b[0;32m    129\u001b[0m             \u001b[0min_data\u001b[0m\u001b[1;33m[\u001b[0m\u001b[1;34m'header'\u001b[0m\u001b[1;33m]\u001b[0m \u001b[1;33m=\u001b[0m \u001b[0mQobjHeader\u001b[0m\u001b[1;33m.\u001b[0m\u001b[0mfrom_dict\u001b[0m\u001b[1;33m(\u001b[0m\u001b[0min_data\u001b[0m\u001b[1;33m.\u001b[0m\u001b[0mpop\u001b[0m\u001b[1;33m(\u001b[0m\u001b[1;34m'header'\u001b[0m\u001b[1;33m)\u001b[0m\u001b[1;33m)\u001b[0m\u001b[1;33m\u001b[0m\u001b[1;33m\u001b[0m\u001b[0m\n",
      "\u001b[1;32mc:\\users\\samsung\\appdata\\roaming\\spb_data\\.conda\\envs\\quantum_computing\\lib\\site-packages\\qiskit\\result\\models.py\u001b[0m in \u001b[0;36mfrom_dict\u001b[1;34m(cls, data)\u001b[0m\n\u001b[0;32m    212\u001b[0m \u001b[1;33m\u001b[0m\u001b[0m\n\u001b[0;32m    213\u001b[0m         \u001b[0min_data\u001b[0m \u001b[1;33m=\u001b[0m \u001b[0mcopy\u001b[0m\u001b[1;33m.\u001b[0m\u001b[0mcopy\u001b[0m\u001b[1;33m(\u001b[0m\u001b[0mdata\u001b[0m\u001b[1;33m)\u001b[0m\u001b[1;33m\u001b[0m\u001b[1;33m\u001b[0m\u001b[0m\n\u001b[1;32m--> 214\u001b[1;33m         \u001b[0mdata_obj\u001b[0m \u001b[1;33m=\u001b[0m \u001b[0mExperimentResultData\u001b[0m\u001b[1;33m.\u001b[0m\u001b[0mfrom_dict\u001b[0m\u001b[1;33m(\u001b[0m\u001b[0min_data\u001b[0m\u001b[1;33m.\u001b[0m\u001b[0mpop\u001b[0m\u001b[1;33m(\u001b[0m\u001b[1;34m'data'\u001b[0m\u001b[1;33m)\u001b[0m\u001b[1;33m)\u001b[0m\u001b[1;33m\u001b[0m\u001b[1;33m\u001b[0m\u001b[0m\n\u001b[0m\u001b[0;32m    215\u001b[0m         \u001b[1;32mif\u001b[0m \u001b[1;34m'header'\u001b[0m \u001b[1;32min\u001b[0m \u001b[0min_data\u001b[0m\u001b[1;33m:\u001b[0m\u001b[1;33m\u001b[0m\u001b[1;33m\u001b[0m\u001b[0m\n\u001b[0;32m    216\u001b[0m             in_data['header'] = QobjExperimentHeader.from_dict(\n",
      "\u001b[1;32mc:\\users\\samsung\\appdata\\roaming\\spb_data\\.conda\\envs\\quantum_computing\\lib\\site-packages\\qiskit\\result\\models.py\u001b[0m in \u001b[0;36mfrom_dict\u001b[1;34m(cls, data)\u001b[0m\n\u001b[0;32m     94\u001b[0m         \"\"\"\n\u001b[0;32m     95\u001b[0m         \u001b[0min_data\u001b[0m \u001b[1;33m=\u001b[0m \u001b[0mcopy\u001b[0m\u001b[1;33m.\u001b[0m\u001b[0mcopy\u001b[0m\u001b[1;33m(\u001b[0m\u001b[0mdata\u001b[0m\u001b[1;33m)\u001b[0m\u001b[1;33m\u001b[0m\u001b[1;33m\u001b[0m\u001b[0m\n\u001b[1;32m---> 96\u001b[1;33m         \u001b[1;32mreturn\u001b[0m \u001b[0mcls\u001b[0m\u001b[1;33m(\u001b[0m\u001b[1;33m**\u001b[0m\u001b[0min_data\u001b[0m\u001b[1;33m)\u001b[0m\u001b[1;33m\u001b[0m\u001b[1;33m\u001b[0m\u001b[0m\n\u001b[0m\u001b[0;32m     97\u001b[0m \u001b[1;33m\u001b[0m\u001b[0m\n\u001b[0;32m     98\u001b[0m \u001b[1;33m\u001b[0m\u001b[0m\n",
      "\u001b[1;31mTypeError\u001b[0m: __init__() got an unexpected keyword argument 'probabilities'"
     ]
    }
   ],
   "source": [
    "#real machine data - ionq hardware\n",
    "from qiskit_ionq import IonQProvider\n",
    "provider = IonQProvider(\"oA1RA2hIZo6QtKQ3kw43BeGFf4GMfiGA\")\n",
    "simulator_backend = provider.get_backend(\"ionq_simulator\")\n",
    "job = simulator_backend.run(qc, shots=1024)\n",
    "print(job.get_counts())"
   ]
  },
  {
   "cell_type": "code",
   "execution_count": 67,
   "id": "miniature-zealand",
   "metadata": {},
   "outputs": [],
   "source": [
    "qpu_backend = provider.get_backend(\"ionq_qpu\")\n",
    "qpu_job = qpu_backend.run(qc, shots=1024)"
   ]
  },
  {
   "cell_type": "code",
   "execution_count": null,
   "id": "integrated-distribution",
   "metadata": {},
   "outputs": [],
   "source": [
    "from qiskit.providers.jobstatus import JobStatus\n",
    "import time\n",
    "while qpu_job.status() is not JobStatus.DONE:\n",
    "    print(\"Job Status is \", qpu_job.status) \n",
    "    time.sleep(60)\n",
    "\n",
    "print(\"FInally\", qpu_job.status() )\n",
    "print(qpu_job.get_counts())"
   ]
  },
  {
   "cell_type": "code",
   "execution_count": 76,
   "id": "junior-stockholm",
   "metadata": {},
   "outputs": [
    {
     "ename": "AttributeError",
     "evalue": "'NoneType' object has no attribute 'get_probabilities'",
     "output_type": "error",
     "traceback": [
      "\u001b[1;31m---------------------------------------------------------------------------\u001b[0m",
      "\u001b[1;31mAttributeError\u001b[0m                            Traceback (most recent call last)",
      "\u001b[1;32m<ipython-input-76-8862153652af>\u001b[0m in \u001b[0;36m<module>\u001b[1;34m\u001b[0m\n\u001b[1;32m----> 1\u001b[1;33m \u001b[0mprint\u001b[0m\u001b[1;33m(\u001b[0m\u001b[0mqpu_job\u001b[0m\u001b[1;33m.\u001b[0m\u001b[0mget_probabilities\u001b[0m\u001b[1;33m(\u001b[0m\u001b[1;33m)\u001b[0m\u001b[1;33m)\u001b[0m\u001b[1;33m\u001b[0m\u001b[1;33m\u001b[0m\u001b[0m\n\u001b[0m",
      "\u001b[1;32mC:\\Users\\Samsung\\AppData\\Roaming\\Python\\Python37\\site-packages\\qiskit_ionq\\ionq_job.py\u001b[0m in \u001b[0;36mget_probabilities\u001b[1;34m(self, circuit)\u001b[0m\n\u001b[0;32m    217\u001b[0m             \u001b[0mtuple\u001b[0m\u001b[1;33m(\u001b[0m\u001b[0mdict\u001b[0m\u001b[1;33m[\u001b[0m\u001b[0mstr\u001b[0m\u001b[1;33m,\u001b[0m \u001b[0mfloat\u001b[0m\u001b[1;33m]\u001b[0m\u001b[1;33m,\u001b[0m \u001b[0mdict\u001b[0m\u001b[1;33m[\u001b[0m\u001b[0mstr\u001b[0m\u001b[1;33m,\u001b[0m \u001b[0mfloat\u001b[0m\u001b[1;33m]\u001b[0m\u001b[1;33m)\u001b[0m\u001b[1;33m:\u001b[0m \u001b[0mA\u001b[0m \u001b[0mtuple\u001b[0m \u001b[0mcounts\u001b[0m\u001b[1;33m,\u001b[0m \u001b[0mprobabilities\u001b[0m\u001b[1;33m.\u001b[0m\u001b[1;33m\u001b[0m\u001b[1;33m\u001b[0m\u001b[0m\n\u001b[0;32m    218\u001b[0m         \"\"\"\n\u001b[1;32m--> 219\u001b[1;33m         \u001b[1;32mreturn\u001b[0m \u001b[0mself\u001b[0m\u001b[1;33m.\u001b[0m\u001b[0mresult\u001b[0m\u001b[1;33m(\u001b[0m\u001b[1;33m)\u001b[0m\u001b[1;33m.\u001b[0m\u001b[0mget_probabilities\u001b[0m\u001b[1;33m(\u001b[0m\u001b[1;33m)\u001b[0m\u001b[1;33m\u001b[0m\u001b[1;33m\u001b[0m\u001b[0m\n\u001b[0m\u001b[0;32m    220\u001b[0m \u001b[1;33m\u001b[0m\u001b[0m\n\u001b[0;32m    221\u001b[0m     \u001b[1;32mdef\u001b[0m \u001b[0mresult\u001b[0m\u001b[1;33m(\u001b[0m\u001b[0mself\u001b[0m\u001b[1;33m)\u001b[0m\u001b[1;33m:\u001b[0m\u001b[1;33m\u001b[0m\u001b[1;33m\u001b[0m\u001b[0m\n",
      "\u001b[1;31mAttributeError\u001b[0m: 'NoneType' object has no attribute 'get_probabilities'"
     ]
    }
   ],
   "source": [
    "print(qpu_job.get_probabilities())"
   ]
  },
  {
   "cell_type": "code",
   "execution_count": null,
   "id": "treated-measure",
   "metadata": {},
   "outputs": [
    {
     "name": "stdout",
     "output_type": "stream",
     "text": [
      "Job Status is  <bound method IonQJob.status of <qiskit_ionq.ionq_job.IonQJob object at 0x000002E6341FF3C8>>\n",
      "Job Status is  <bound method IonQJob.status of <qiskit_ionq.ionq_job.IonQJob object at 0x000002E6341FF3C8>>\n"
     ]
    }
   ],
   "source": [
    "qpu_job = qpu_backend.run(qc, shots=10240)\n",
    "from qiskit.providers.jobstatus import JobStatus\n",
    "import time\n",
    "while qpu_job.status() is not JobStatus.DONE:\n",
    "    print(\"Job Status is \", qpu_job.status) \n",
    "    time.sleep(60)\n",
    "\n",
    "print(\"FInally\", qpu_job.status() )\n",
    "print(qpu_job.get_counts())"
   ]
  },
  {
   "cell_type": "code",
   "execution_count": null,
   "id": "floating-cheese",
   "metadata": {},
   "outputs": [],
   "source": [
    "print(qpu_job.get_probabilities())"
   ]
  },
  {
   "cell_type": "code",
   "execution_count": null,
   "id": "exceptional-diagnosis",
   "metadata": {},
   "outputs": [],
   "source": [
    "counts = qpu_job.get_counts(qc)\n",
    "print(f\"The experimental error rate : {(1 - (counts['0000'] + counts['1001'])/sum(counts.values())) * 100 :.3f}%\")"
   ]
  },
  {
   "cell_type": "code",
   "execution_count": null,
   "id": "registered-synthesis",
   "metadata": {},
   "outputs": [],
   "source": []
  }
 ],
 "metadata": {
  "kernelspec": {
   "display_name": "Python 3",
   "language": "python",
   "name": "python3"
  },
  "language_info": {
   "codemirror_mode": {
    "name": "ipython",
    "version": 3
   },
   "file_extension": ".py",
   "mimetype": "text/x-python",
   "name": "python",
   "nbconvert_exporter": "python",
   "pygments_lexer": "ipython3",
   "version": "3.7.9"
  }
 },
 "nbformat": 4,
 "nbformat_minor": 5
}
